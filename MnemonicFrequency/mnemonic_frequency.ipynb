{
 "cells": [
  {
   "cell_type": "markdown",
   "id": "349babcd-7233-4c3f-9325-5fb07918f132",
   "metadata": {},
   "source": [
    "<div class=\"bci-header\">\n",
    "    \n",
    "<div class=\"bci-header-image\">\n",
    "  <img src=\"../images/bcilogo.svg\"/>\n",
    "    </div>\n",
    "<div class=\"bci-header-text\">\n",
    "    <div class=\"bci-header-class\"> Ghidra Automations </div>\n",
    "    <div class=\"bci-header-sub\"> Mnemonic Frequency </div>\n",
    "    <div class=\"bci-header-author\">Dr. Kayla Afanador</div>\n",
    "    \n",
    "<br><br><br>"
   ]
  },
  {
   "cell_type": "markdown",
   "id": "f736869f-eedb-4bad-ac25-f17f96efbaf1",
   "metadata": {},
   "source": [
    "<div class=\"markdown-box\">\n",
    "<div class=\"markdown-text\">\n",
    "\n",
    "<div id=\"outline\" class=\"outline\">   \n",
    "Notebook Outline \n",
    "</div>\n",
    "<ol>\n",
    "    <li><a href=\"#feat\">Introduction to the Feature</a></li>\n",
    "    <li><a href=\"#extract\">Feature Extraction</a></li>\n",
    "    <li><a href=\"#vis\">Feature Visualization</a></li>\n",
    "</ol>\n",
    "\n",
    "    \n",
    " "
   ]
  },
  {
   "cell_type": "markdown",
   "id": "e3cedbfc-5eeb-4b00-aed5-1e55fcc4e658",
   "metadata": {
    "tags": []
   },
   "source": [
    "<div class=\"markdown-box\">\n",
    "<div class=\"markdown-text\">\n",
    "\n",
    "<div id=\"feat\">\n",
    "<h1> Introduction to the Feature</h1>\n",
    "    </div>\n",
    "\n",
    "A mnemonic string is a short, symbolic representation of an assembly instruction. In the x86 architecture, each instruction has a corresponding mnemonic string that represents the operation it performs.\n",
    "\n",
    "For example, in x86 assembly, the instruction: \n",
    "    \n",
    "```c\n",
    "mov eax, 0\n",
    "```\n",
    "<br>   \n",
    "is used to move the value 0 into the EAX register. The corresponding mnemonic string for this instruction is \"mov\".\n",
    "\n",
    "Other examples of mnemonic strings for x86 assembly instructions include:\n",
    "<ul>\n",
    "    <li>add</li>\n",
    "    <li>jmp</li>\n",
    "    <li>call</li>\n",
    "    <li>ret</li>\n",
    "</ul>"
   ]
  },
  {
   "cell_type": "markdown",
   "id": "f642426d-1c63-4afe-988e-4b3c5a85288f",
   "metadata": {
    "tags": []
   },
   "source": [
    "<div class=\"markdown-box\">\n",
    "<div class=\"markdown-text\">\n",
    "\n",
    "<div id=\"vuln\">\n",
    "<h2> Mnemonic Frequency and Vulnerabilies </h2>\n",
    "    </div>\n",
    "\n",
    "Mnemonic frequency can be associated with certain types of vulnerabilities. For example, certain types of buffer overflow vulnerabilities may be associated with specific sequences of assembly instructions, such as those that involve copying large amounts of data into memory locations without proper bounds checking. In such cases, the mnemonic frequency of the instruction used to copy the data (e.g. \"mov\", \"memcpy\", etc.) may be higher in vulnerable code than in non-vulnerable code.\n",
    "\n",
    "Another example is the use of certain instruction like \"jmp\" or \"call\" could indicate a control flow hijack vulnerability, where an attacker can change the execution flow of a program to their own advantage."
   ]
  },
  {
   "cell_type": "markdown",
   "id": "2c33e740-5f9b-4071-ac4d-a4a2a75f486e",
   "metadata": {
    "tags": []
   },
   "source": [
    "<div class=\"markdown-box\">\n",
    "<div class=\"markdown-text\">    \n",
    "\n",
    "<div id=\"extract\">\n",
    "<h1> Feature Extraction</h1>\n",
    "    </div>   "
   ]
  },
  {
   "cell_type": "code",
   "execution_count": null,
   "id": "fd9468b9-04fd-4ef2-a055-1a659258b655",
   "metadata": {},
   "outputs": [],
   "source": [
    "# GOAL: get frequency of each mnemonic in the program\n",
    "\n",
    "import ghidra.program.model.listing\n",
    "\n",
    "# Create an empty dictionary to store the frequency of each mnemonic\n",
    "# mnemonic as key and frequency as value.\n",
    "from collections import defaultdict\n",
    "mnemonic_count = defaultdict(int)\n",
    "\n",
    "# Get the listing of the current program\n",
    "listing = currentProgram.getListing()\n",
    "\n",
    "# Get the array of instructions in the program\n",
    "# instructions = listing.getInstructions(currentProgram.getMinAddress(), currentProgram.getMaxAddress())\n",
    "instructions = listing.getInstructions(True)\n",
    "\n",
    "# Iterate over the instructions in the program\n",
    "for instruction in instructions:\n",
    "    # Get the mnemonic string\n",
    "    mnemonic = instruction.getMnemonicString()\n",
    "    # add to dict\n",
    "    mnemonic_count[mnemonic] += 1\n",
    "    \n",
    "print(mnemonic_count)"
   ]
  },
  {
   "cell_type": "code",
   "execution_count": null,
   "id": "b2d6af86-d26e-4a81-842d-747268a206ad",
   "metadata": {},
   "outputs": [],
   "source": [
    "mnemonic_count = {'ENDBR64': 8, 'SUB': 6, 'MOV': 31, 'TEST': 3, 'JZ': 6, 'CALL': 11, 'ADD': 5, 'RET': 12, 'PUSH': 16, 'JMP': 10, 'XOR': 2, 'POP': 10, 'AND': 1, 'HLT': 1, 'CMP': 3, 'SHR': 1, 'SAR': 3, 'JNZ': 2, 'LEA': 8, 'NOP': 3, 'LEAVE': 1}"
   ]
  },
  {
   "cell_type": "markdown",
   "id": "bd4ef1ad-8218-4383-9e2b-5352caa9898c",
   "metadata": {
    "tags": []
   },
   "source": [
    "<div class=\"markdown-box\">\n",
    "<div class=\"markdown-text\">\n",
    "    \n",
    "<div id=\"vis\">\n",
    "<h1> Feature Visualization</h1>\n",
    "    </div>\n",
    "Use the pandas library and seaborn library to create a bar chart of the mnemonic count:\n",
    "    "
   ]
  },
  {
   "cell_type": "code",
   "execution_count": null,
   "id": "b6f76210-6672-4ec3-8d67-4129b8688d8a",
   "metadata": {
    "tags": []
   },
   "outputs": [],
   "source": [
    "import pandas as pd\n",
    "import seaborn as sns\n",
    "import matplotlib.pyplot as plt"
   ]
  },
  {
   "cell_type": "code",
   "execution_count": null,
   "id": "aad866ae-eb0d-4b36-a3ee-2984a83fa127",
   "metadata": {},
   "outputs": [],
   "source": [
    "# Create a dataframe from the mnemonic_count dictionary\n",
    "df = pd.DataFrame.from_dict(mnemonic_count, orient='index', columns=['count'])"
   ]
  },
  {
   "cell_type": "code",
   "execution_count": null,
   "id": "42b0dc39-8793-43c3-bf05-1e2d84c8bfec",
   "metadata": {},
   "outputs": [],
   "source": [
    "# Use seaborn to create a bar chart of the mnemonic count\n",
    "fig, ax = plt.subplots(figsize=(12, 6))\n",
    "g = sns.barplot(x=df.index, y=df['count'], palette='mako')\n",
    "plt.xlabel('Mnemonic', size=15)\n",
    "plt.ylabel('Frequency',size=15)\n",
    "g.set_title('Mnemonic Frequency',size=20)\n",
    "plt.tick_params(rotation=90, labelsize=12)\n",
    "sns.despine()\n",
    "sns.set_style(\"white\")\n",
    "plt.show()\n",
    "g.figure.savefig(\"mnemonicFreq.png\")"
   ]
  },
  {
   "cell_type": "code",
   "execution_count": null,
   "id": "8ce75b7c-9016-48bb-9d1e-f69040518da6",
   "metadata": {},
   "outputs": [],
   "source": [
    "fig, ax = plt.subplots(figsize=(12, 6))\n",
    "g = sns.scatterplot(x=df.index, y=df['count'], size=df['count'], sizes=(50,200))\n",
    "plt.xlabel('Mnemonic', size=15)\n",
    "plt.ylabel('Frequency',size=15)\n",
    "g.set_title('Mnemonic Frequency',size=20)\n",
    "plt.tick_params(rotation=90, labelsize=12)\n",
    "sns.despine()\n",
    "sns.set_style(\"white\")\n",
    "plt.show()\n",
    "g.figure.savefig(\"mnemonicFreqBUBBLE.png\")"
   ]
  },
  {
   "cell_type": "markdown",
   "id": "b37d333f",
   "metadata": {},
   "source": [
    "----"
   ]
  }
 ],
 "metadata": {
  "kernelspec": {
   "display_name": "Python 3 (ipykernel)",
   "language": "python",
   "name": "python3"
  },
  "language_info": {
   "codemirror_mode": {
    "name": "ipython",
    "version": 3
   },
   "file_extension": ".py",
   "mimetype": "text/x-python",
   "name": "python",
   "nbconvert_exporter": "python",
   "pygments_lexer": "ipython3",
   "version": "3.8.2"
  },
  "toc-autonumbering": true
 },
 "nbformat": 4,
 "nbformat_minor": 5
}
